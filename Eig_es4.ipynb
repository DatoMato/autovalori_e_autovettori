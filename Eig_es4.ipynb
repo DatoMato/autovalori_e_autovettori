{
 "cells": [
  {
   "cell_type": "code",
   "execution_count": 1,
   "metadata": {
    "collapsed": true
   },
   "outputs": [],
   "source": [
    "import numpy as np\n",
    "import numpy.linalg as la"
   ]
  },
  {
   "cell_type": "markdown",
   "metadata": {},
   "source": [
    "### Costruzione matrice con una riga \"quasi\" combinazione lineare delle altre due"
   ]
  },
  {
   "cell_type": "code",
   "execution_count": 2,
   "metadata": {
    "collapsed": false
   },
   "outputs": [
    {
     "data": {
      "text/plain": [
       "array([[  2,  -1,   3],\n",
       "       [  3,  -2,   2],\n",
       "       [ 17, -10,  19]])"
      ]
     },
     "execution_count": 2,
     "metadata": {},
     "output_type": "execute_result"
    }
   ],
   "source": [
    "A = np.array([[ 2,  -1,  3],\n",
    "              [ 3,  -2,  2],\n",
    "              [17, -10, 19]])\n",
    "A"
   ]
  },
  {
   "cell_type": "code",
   "execution_count": 3,
   "metadata": {
    "collapsed": false
   },
   "outputs": [
    {
     "name": "stdout",
     "output_type": "stream",
     "text": [
      "Autovalori: [ 20.55447189  -1.5851635    0.03069161]\n",
      "Matrice autovettori:\n",
      " [[-0.15304185  0.30324453 -0.62143392]\n",
      " [-0.10746621 -0.73440809 -0.7686358 ]\n",
      " [-0.982359   -0.60719644  0.15171974]]\n"
     ]
    }
   ],
   "source": [
    "ls, V = la.eig(A)\n",
    "ind = np.argsort(np.abs(ls))[::-1]\n",
    "ls = ls[ind]\n",
    "V = V[:,ind]\n",
    "print('Autovalori:',ls)\n",
    "print('Matrice autovettori:\\n',V)"
   ]
  },
  {
   "cell_type": "markdown",
   "metadata": {},
   "source": [
    "#### RImozione autovalore minimo"
   ]
  },
  {
   "cell_type": "code",
   "execution_count": 4,
   "metadata": {
    "collapsed": false
   },
   "outputs": [
    {
     "data": {
      "text/plain": [
       "array([ 20.55447189,  -1.5851635 ])"
      ]
     },
     "execution_count": 4,
     "metadata": {},
     "output_type": "execute_result"
    }
   ],
   "source": [
    "ls1=ls[[0,1]]\n",
    "ls1"
   ]
  },
  {
   "cell_type": "markdown",
   "metadata": {},
   "source": [
    "#### Rimozione autovettore (colonna) relativo all'autovalore minimo"
   ]
  },
  {
   "cell_type": "code",
   "execution_count": 5,
   "metadata": {
    "collapsed": false
   },
   "outputs": [
    {
     "data": {
      "text/plain": [
       "array([[-0.15304185,  0.30324453],\n",
       "       [-0.10746621, -0.73440809],\n",
       "       [-0.982359  , -0.60719644]])"
      ]
     },
     "execution_count": 5,
     "metadata": {},
     "output_type": "execute_result"
    }
   ],
   "source": [
    "V1=V[:,[0,1]]\n",
    "V1"
   ]
  },
  {
   "cell_type": "markdown",
   "metadata": {},
   "source": [
    "#### Calcolo inversa della matrice degli autovettori"
   ]
  },
  {
   "cell_type": "code",
   "execution_count": 6,
   "metadata": {
    "collapsed": false
   },
   "outputs": [
    {
     "data": {
      "text/plain": [
       "array([[-0.79177261,  0.45375652, -0.9442466 ],\n",
       "       [ 1.05642477, -0.86785452, -0.0696407 ],\n",
       "       [-0.89868062, -0.53523933,  0.19855866]])"
      ]
     },
     "execution_count": 6,
     "metadata": {},
     "output_type": "execute_result"
    }
   ],
   "source": [
    "V_1=la.inv(V)\n",
    "V_1"
   ]
  },
  {
   "cell_type": "markdown",
   "metadata": {},
   "source": [
    "#### RImozione autovettore (riga) della matrice inversa relativo all'autovalore minimo"
   ]
  },
  {
   "cell_type": "code",
   "execution_count": 7,
   "metadata": {
    "collapsed": false
   },
   "outputs": [
    {
     "data": {
      "text/plain": [
       "array([[-0.79177261,  0.45375652, -0.9442466 ],\n",
       "       [ 1.05642477, -0.86785452, -0.0696407 ]])"
      ]
     },
     "execution_count": 7,
     "metadata": {},
     "output_type": "execute_result"
    }
   ],
   "source": [
    "V_11 = V_1[[0,1]]\n",
    "V_11"
   ]
  },
  {
   "cell_type": "markdown",
   "metadata": {},
   "source": [
    "#### Matrice degli autovalori"
   ]
  },
  {
   "cell_type": "code",
   "execution_count": 8,
   "metadata": {
    "collapsed": false
   },
   "outputs": [
    {
     "data": {
      "text/plain": [
       "array([[ 20.55447189,   0.        ,   0.        ],\n",
       "       [  0.        ,  -1.5851635 ,   0.        ],\n",
       "       [  0.        ,   0.        ,   0.03069161]])"
      ]
     },
     "execution_count": 8,
     "metadata": {},
     "output_type": "execute_result"
    }
   ],
   "source": [
    "L = np.diag(ls)\n",
    "L"
   ]
  },
  {
   "cell_type": "markdown",
   "metadata": {},
   "source": [
    "#### Matrice degli autovalori senza l'autovalore minimo"
   ]
  },
  {
   "cell_type": "code",
   "execution_count": 9,
   "metadata": {
    "collapsed": false
   },
   "outputs": [
    {
     "data": {
      "text/plain": [
       "array([[ 20.55447189,   0.        ],\n",
       "       [  0.        ,  -1.5851635 ]])"
      ]
     },
     "execution_count": 9,
     "metadata": {},
     "output_type": "execute_result"
    }
   ],
   "source": [
    "L1 = np.diag(ls1)\n",
    "L1"
   ]
  },
  {
   "cell_type": "markdown",
   "metadata": {},
   "source": [
    "#### Ricostruzione matrice A parendo dalle matrici di autovettori e autovalori ridotte"
   ]
  },
  {
   "cell_type": "code",
   "execution_count": 10,
   "metadata": {
    "collapsed": false
   },
   "outputs": [
    {
     "data": {
      "text/plain": [
       "array([[  1.98285964,  -1.01020852,   3.00378707],\n",
       "       [  2.97879952,  -2.01262665,   2.00468413],\n",
       "       [ 17.00418473,  -9.99750765,  18.99907541]])"
      ]
     },
     "execution_count": 10,
     "metadata": {},
     "output_type": "execute_result"
    }
   ],
   "source": [
    "V1.dot(L1.dot(V_11))"
   ]
  },
  {
   "cell_type": "markdown",
   "metadata": {},
   "source": [
    "#### Si noti che la matrice ricostruita è \"quasi\" uguale alla matrice originale A"
   ]
  },
  {
   "cell_type": "code",
   "execution_count": 11,
   "metadata": {
    "collapsed": false
   },
   "outputs": [
    {
     "data": {
      "text/plain": [
       "array([[  2,  -1,   3],\n",
       "       [  3,  -2,   2],\n",
       "       [ 17, -10,  19]])"
      ]
     },
     "execution_count": 11,
     "metadata": {},
     "output_type": "execute_result"
    }
   ],
   "source": [
    "A"
   ]
  },
  {
   "cell_type": "code",
   "execution_count": null,
   "metadata": {
    "collapsed": true
   },
   "outputs": [],
   "source": []
  },
  {
   "cell_type": "markdown",
   "metadata": {},
   "source": [
    "### Calcolo dei numeri di Fibonacci con gli autovettori"
   ]
  },
  {
   "cell_type": "code",
   "execution_count": 12,
   "metadata": {
    "collapsed": true
   },
   "outputs": [],
   "source": [
    "def fibo(n):\n",
    "    sqr5 = np.sqrt(5)\n",
    "    a = np.power(((1+sqr5)/2),n+1)\n",
    "    b = np.power(((1-sqr5)/2),n+1)\n",
    "    return int((a-b)/sqr5)"
   ]
  },
  {
   "cell_type": "code",
   "execution_count": 13,
   "metadata": {
    "collapsed": false
   },
   "outputs": [
    {
     "name": "stdout",
     "output_type": "stream",
     "text": [
      "1\n",
      "1\n",
      "2\n",
      "3\n",
      "5\n",
      "8\n",
      "13\n",
      "21\n",
      "34\n",
      "55\n",
      "89\n",
      "144\n",
      "233\n",
      "377\n",
      "610\n",
      "987\n",
      "1597\n",
      "2584\n",
      "4181\n",
      "6765\n"
     ]
    }
   ],
   "source": [
    "for k in range(20):\n",
    "    print(fibo(k))"
   ]
  },
  {
   "cell_type": "code",
   "execution_count": null,
   "metadata": {
    "collapsed": true
   },
   "outputs": [],
   "source": []
  },
  {
   "cell_type": "markdown",
   "metadata": {},
   "source": [
    "### Funziona con un'immagine quadrata?"
   ]
  },
  {
   "cell_type": "code",
   "execution_count": 14,
   "metadata": {
    "collapsed": true
   },
   "outputs": [],
   "source": [
    "from scipy.ndimage import imread\n",
    "import matplotlib.pyplot as plt"
   ]
  },
  {
   "cell_type": "code",
   "execution_count": 15,
   "metadata": {
    "collapsed": true
   },
   "outputs": [],
   "source": [
    "%matplotlib inline"
   ]
  },
  {
   "cell_type": "code",
   "execution_count": 16,
   "metadata": {
    "collapsed": true
   },
   "outputs": [],
   "source": [
    "img = imread('lion-licking-paw.png', mode='L')"
   ]
  },
  {
   "cell_type": "code",
   "execution_count": 17,
   "metadata": {
    "collapsed": false
   },
   "outputs": [
    {
     "data": {
      "image/png": "[encoded data removed]",
      "text/plain": [
       "<matplotlib.figure.Figure at 0x1110659e8>"
      ]
     },
     "metadata": {},
     "output_type": "display_data"
    }
   ],
   "source": [
    "imgplot = plt.imshow(img,cmap='gray')"
   ]
  },
  {
   "cell_type": "code",
   "execution_count": 18,
   "metadata": {
    "collapsed": false
   },
   "outputs": [],
   "source": [
    "ls, V = la.eig(img)\n",
    "ind = np.argsort(np.abs(ls))[::-1]\n",
    "ls = ls[ind]\n",
    "V = V[:,ind]"
   ]
  },
  {
   "cell_type": "code",
   "execution_count": 19,
   "metadata": {
    "collapsed": false,
    "scrolled": true
   },
   "outputs": [
    {
     "data": {
      "text/plain": [
       "array([  3.53465290e+04 +0.00000000e+00j,\n",
       "         3.74227704e+03 +0.00000000e+00j,\n",
       "        -1.01903784e+03 +1.79122101e+03j,\n",
       "        -1.01903784e+03 -1.79122101e+03j,\n",
       "         1.14590105e+03 +4.93218534e+02j,\n",
       "         1.14590105e+03 -4.93218534e+02j,\n",
       "         5.60582556e+00 +1.08269660e+03j,\n",
       "         5.60582556e+00 -1.08269660e+03j,\n",
       "        -9.46879649e+02 +0.00000000e+00j,\n",
       "        -5.16380271e+02 +6.53186800e+02j,\n",
       "        -5.16380271e+02 -6.53186800e+02j,\n",
       "         7.78031498e+02 +0.00000000e+00j,\n",
       "         2.91806583e+02 +6.84871725e+02j,\n",
       "         2.91806583e+02 -6.84871725e+02j,\n",
       "        -4.27742833e+02 +4.25685598e+02j,\n",
       "        -4.27742833e+02 -4.25685598e+02j,\n",
       "         4.82295689e+02 -1.69740659e+02j,\n",
       "         4.82295689e+02 +1.69740659e+02j,\n",
       "        -4.57008805e+02 +0.00000000e+00j,\n",
       "         3.40181965e+02 +2.64648686e+02j,\n",
       "         3.40181965e+02 -2.64648686e+02j,\n",
       "         1.42277240e+02 +3.76452202e+02j,\n",
       "         1.42277240e+02 -3.76452202e+02j,\n",
       "        -2.24435619e+02 +3.05846984e+02j,\n",
       "        -2.24435619e+02 -3.05846984e+02j,\n",
       "        -2.98032663e+02 +2.19224125e+02j,\n",
       "        -2.98032663e+02 -2.19224125e+02j,\n",
       "         3.38416566e+02 +0.00000000e+00j,\n",
       "         2.95539809e+02 +1.28519661e+02j,\n",
       "         2.95539809e+02 -1.28519661e+02j,\n",
       "         1.68700534e+02 +2.70396027e+02j,\n",
       "         1.68700534e+02 -2.70396027e+02j,\n",
       "         3.31059317e+01 +3.14552464e+02j,\n",
       "         3.31059317e+01 -3.14552464e+02j,\n",
       "        -3.03908858e+02 -8.03009857e+00j,\n",
       "        -3.03908858e+02 +8.03009857e+00j,\n",
       "         2.73366728e+02 +7.23979815e+01j,\n",
       "         2.73366728e+02 -7.23979815e+01j,\n",
       "        -5.70557521e+01 +2.55915920e+02j,\n",
       "        -5.70557521e+01 -2.55915920e+02j,\n",
       "         2.10702848e+01 +2.51358455e+02j,\n",
       "         2.10702848e+01 -2.51358455e+02j,\n",
       "        -1.27331845e+02 +2.07407327e+02j,\n",
       "        -1.27331845e+02 -2.07407327e+02j,\n",
       "        -2.35793204e+02 +2.83170393e+01j,\n",
       "        -2.35793204e+02 -2.83170393e+01j,\n",
       "         6.81707659e+01 +2.23838955e+02j,\n",
       "         6.81707659e+01 -2.23838955e+02j,\n",
       "         1.49827369e+02 +1.65932662e+02j,\n",
       "         1.49827369e+02 -1.65932662e+02j,\n",
       "        -1.71803006e+02 -1.28508237e+02j,\n",
       "        -1.71803006e+02 +1.28508237e+02j,\n",
       "         2.10514448e+02 +0.00000000e+00j,\n",
       "         1.93556245e+02 +5.26250857e+01j,\n",
       "         1.93556245e+02 -5.26250857e+01j,\n",
       "        -1.86080078e+02 +6.34426282e+01j,\n",
       "        -1.86080078e+02 -6.34426282e+01j,\n",
       "        -3.34070059e+01 +1.88749137e+02j,\n",
       "        -3.34070059e+01 -1.88749137e+02j,\n",
       "         1.24715086e+02 +1.33705485e+02j,\n",
       "         1.24715086e+02 -1.33705485e+02j,\n",
       "        -5.48859601e+01 +1.67765939e+02j,\n",
       "        -5.48859601e+01 -1.67765939e+02j,\n",
       "        -1.53435507e+02 +8.68122317e+01j,\n",
       "        -1.53435507e+02 -8.68122317e+01j,\n",
       "         1.52611710e+01 +1.73772297e+02j,\n",
       "         1.52611710e+01 -1.73772297e+02j,\n",
       "        -1.71658928e+02 +0.00000000e+00j,\n",
       "         6.87831024e+01 +1.55184475e+02j,\n",
       "         6.87831024e+01 -1.55184475e+02j,\n",
       "         1.48213283e+02 +7.89365763e+01j,\n",
       "         1.48213283e+02 -7.89365763e+01j,\n",
       "        -1.60361950e+02 +0.00000000e+00j,\n",
       "        -1.22144186e+02 +1.01882758e+02j,\n",
       "        -1.22144186e+02 -1.01882758e+02j,\n",
       "         5.90524573e+01 +1.38174085e+02j,\n",
       "         5.90524573e+01 -1.38174085e+02j,\n",
       "        -7.29098717e+01 +1.26231297e+02j,\n",
       "        -7.29098717e+01 -1.26231297e+02j,\n",
       "        -1.27634786e+02 -7.01150992e+01j,\n",
       "        -1.27634786e+02 +7.01150992e+01j,\n",
       "         2.31722818e+01 +1.42666645e+02j,\n",
       "         2.31722818e+01 -1.42666645e+02j,\n",
       "         1.37348526e+02 +3.89231130e+01j,\n",
       "         1.37348526e+02 -3.89231130e+01j,\n",
       "        -3.67011194e+01 +1.33807148e+02j,\n",
       "        -3.67011194e+01 -1.33807148e+02j,\n",
       "         9.39884228e+01 +9.70979310e+01j,\n",
       "         9.39884228e+01 -9.70979310e+01j,\n",
       "         1.34717364e+02 +9.48679547e-01j,\n",
       "         1.34717364e+02 -9.48679547e-01j,\n",
       "        -1.09295012e+02 +7.53491419e+01j,\n",
       "        -1.09295012e+02 -7.53491419e+01j,\n",
       "        -7.36956342e+01 +1.04631357e+02j,\n",
       "        -7.36956342e+01 -1.04631357e+02j,\n",
       "         7.91368457e+01 +9.76219711e+01j,\n",
       "         7.91368457e+01 -9.76219711e+01j,\n",
       "        -1.11390516e+02 +5.58987802e+01j,\n",
       "        -1.11390516e+02 -5.58987802e+01j,\n",
       "        -1.20409056e+02 +0.00000000e+00j,\n",
       "         1.18589613e+02 -1.31385270e+01j,\n",
       "         1.18589613e+02 +1.31385270e+01j,\n",
       "         3.74545912e+01 +1.07438220e+02j,\n",
       "         3.74545912e+01 -1.07438220e+02j,\n",
       "        -1.11317184e+02 +1.19360666e+01j,\n",
       "        -1.11317184e+02 -1.19360666e+01j,\n",
       "         1.73072696e+01 +1.08648741e+02j,\n",
       "         1.73072696e+01 -1.08648741e+02j,\n",
       "         1.05126888e+02 +2.35947977e+01j,\n",
       "         1.05126888e+02 -2.35947977e+01j,\n",
       "         9.35416330e+01 -5.25466171e+01j,\n",
       "         9.35416330e+01 +5.25466171e+01j,\n",
       "        -7.53175805e+01 +7.46621847e+01j,\n",
       "        -7.53175805e+01 -7.46621847e+01j,\n",
       "        -5.84150168e+01 +8.63545166e+01j,\n",
       "        -5.84150168e+01 -8.63545166e+01j,\n",
       "        -9.61443534e+01 +3.84663989e+01j,\n",
       "        -9.61443534e+01 -3.84663989e+01j,\n",
       "         5.09694767e+01 -8.99013904e+01j,\n",
       "         5.09694767e+01 +8.99013904e+01j,\n",
       "         9.29286685e+00 +1.02627308e+02j,\n",
       "         9.29286685e+00 -1.02627308e+02j,\n",
       "         9.69334236e+01 +3.19384691e+01j,\n",
       "         9.69334236e+01 -3.19384691e+01j,\n",
       "        -1.77497710e+01 -9.80726150e+01j,\n",
       "        -1.77497710e+01 +9.80726150e+01j,\n",
       "        -7.54667435e+00 +9.89596410e+01j,\n",
       "        -7.54667435e+00 -9.89596410e+01j,\n",
       "        -3.14818855e+01 +9.09598955e+01j,\n",
       "        -3.14818855e+01 -9.09598955e+01j,\n",
       "        -8.36902399e+01 +4.74217147e+01j,\n",
       "        -8.36902399e+01 -4.74217147e+01j,\n",
       "         7.73519480e+01 +5.34604449e+01j,\n",
       "         7.73519480e+01 -5.34604449e+01j,\n",
       "         9.07504545e+01 +1.02688924e+01j,\n",
       "         9.07504545e+01 -1.02688924e+01j,\n",
       "         8.78021931e+01 +2.21540489e+01j,\n",
       "         8.78021931e+01 -2.21540489e+01j,\n",
       "         6.92204248e+01 +5.76488589e+01j,\n",
       "         6.92204248e+01 -5.76488589e+01j,\n",
       "        -8.98176614e+01 +1.96026097e+00j,\n",
       "        -8.98176614e+01 -1.96026097e+00j,\n",
       "         3.29121596e+01 +7.86495202e+01j,\n",
       "         3.29121596e+01 -7.86495202e+01j,\n",
       "         1.32122427e+00 +8.41843912e+01j,\n",
       "         1.32122427e+00 -8.41843912e+01j,\n",
       "         4.52691166e+01 +6.99886212e+01j,\n",
       "         4.52691166e+01 -6.99886212e+01j,\n",
       "        -6.66757763e+01 -4.57743987e+01j,\n",
       "        -6.66757763e+01 +4.57743987e+01j,\n",
       "        -4.01803797e+01 +7.00355130e+01j,\n",
       "        -4.01803797e+01 -7.00355130e+01j,\n",
       "        -7.19706209e+01 +3.51432321e+01j,\n",
       "        -7.19706209e+01 -3.51432321e+01j,\n",
       "         6.55892449e+01 +3.72398348e+01j,\n",
       "         6.55892449e+01 -3.72398348e+01j,\n",
       "         5.25688868e+01 +5.35098314e+01j,\n",
       "         5.25688868e+01 -5.35098314e+01j,\n",
       "         4.59309703e+01 +5.79703025e+01j,\n",
       "         4.59309703e+01 -5.79703025e+01j,\n",
       "        -7.19897465e+01 +1.57820361e+01j,\n",
       "        -7.19897465e+01 -1.57820361e+01j,\n",
       "        -9.23196058e+00 +7.21083357e+01j,\n",
       "        -9.23196058e+00 -7.21083357e+01j,\n",
       "        -2.34222858e+01 -6.69661636e+01j,\n",
       "        -2.34222858e+01 +6.69661636e+01j,\n",
       "        -4.91796586e+01 -4.97051983e+01j,\n",
       "        -4.91796586e+01 +4.97051983e+01j,\n",
       "         5.11518759e+00 +6.80240094e+01j,\n",
       "         5.11518759e+00 -6.80240094e+01j,\n",
       "        -3.41310916e+01 +5.84507345e+01j,\n",
       "        -3.41310916e+01 -5.84507345e+01j,\n",
       "         6.39889713e+01 -2.16482497e+01j,\n",
       "         6.39889713e+01 +2.16482497e+01j,\n",
       "         6.38910580e+01 -1.82889742e+01j,\n",
       "         6.38910580e+01 +1.82889742e+01j,\n",
       "        -1.60506516e+01 +6.44266318e+01j,\n",
       "        -1.60506516e+01 -6.44266318e+01j,\n",
       "        -5.64970751e+01 +3.03299851e+01j,\n",
       "        -5.64970751e+01 -3.03299851e+01j,\n",
       "        -4.84743511e+00 +6.21746487e+01j,\n",
       "        -4.84743511e+00 -6.21746487e+01j,\n",
       "        -6.18620411e+01 +0.00000000e+00j,\n",
       "         1.32096899e+01 +5.99389077e+01j,\n",
       "         1.32096899e+01 -5.99389077e+01j,\n",
       "         6.07244893e+01 +0.00000000e+00j,\n",
       "         2.57533429e+01 -5.44391897e+01j,\n",
       "         2.57533429e+01 +5.44391897e+01j,\n",
       "        -4.69646139e+01 +3.57104507e+01j,\n",
       "        -4.69646139e+01 -3.57104507e+01j,\n",
       "         4.98272778e+01 +3.06924432e+01j,\n",
       "         4.98272778e+01 -3.06924432e+01j,\n",
       "         3.41338258e+01 +4.58297035e+01j,\n",
       "         3.41338258e+01 -4.58297035e+01j,\n",
       "         2.10355882e+01 +5.19536438e+01j,\n",
       "         2.10355882e+01 -5.19536438e+01j,\n",
       "        -5.36660113e+01 +1.22095050e+01j,\n",
       "        -5.36660113e+01 -1.22095050e+01j,\n",
       "        -5.37853484e+01 +1.47882248e+00j,\n",
       "        -5.37853484e+01 -1.47882248e+00j,\n",
       "         5.19700632e+01 +0.00000000e+00j,\n",
       "        -2.51579142e+01 -4.41701925e+01j,\n",
       "        -2.51579142e+01 +4.41701925e+01j,\n",
       "         4.65452555e+01 +1.88837423e+01j,\n",
       "         4.65452555e+01 -1.88837423e+01j,\n",
       "        -1.09471518e+01 -4.84580782e+01j,\n",
       "        -1.09471518e+01 +4.84580782e+01j,\n",
       "        -3.95311783e+01 -2.93324332e+01j,\n",
       "        -3.95311783e+01 +2.93324332e+01j,\n",
       "        -3.58998945e+01 +3.29859070e+01j,\n",
       "        -3.58998945e+01 -3.29859070e+01j,\n",
       "        -4.83649315e+00 +4.72049122e+01j,\n",
       "        -4.83649315e+00 -4.72049122e+01j,\n",
       "         4.55509024e+01 +4.37570350e+00j,\n",
       "         4.55509024e+01 -4.37570350e+00j,\n",
       "         2.07639864e+01 +4.06130841e+01j,\n",
       "         2.07639864e+01 -4.06130841e+01j,\n",
       "        -2.29817153e+01 +3.78144382e+01j,\n",
       "        -2.29817153e+01 -3.78144382e+01j,\n",
       "         1.01465111e+01 +4.30440029e+01j,\n",
       "         1.01465111e+01 -4.30440029e+01j,\n",
       "         3.34294473e+01 -2.83810100e+01j,\n",
       "         3.34294473e+01 +2.83810100e+01j,\n",
       "         3.36628263e+01 +2.03650354e+01j,\n",
       "         3.36628263e+01 -2.03650354e+01j,\n",
       "        -3.78797685e+01 -6.53738241e+00j,\n",
       "        -3.78797685e+01 +6.53738241e+00j,\n",
       "        -2.99000913e+01 +2.30538168e+01j,\n",
       "        -2.99000913e+01 -2.30538168e+01j,\n",
       "         6.47418424e+00 +3.61595420e+01j,\n",
       "         6.47418424e+00 -3.61595420e+01j,\n",
       "        -1.39307107e+01 +3.20741517e+01j,\n",
       "        -1.39307107e+01 -3.20741517e+01j,\n",
       "         3.10753827e+01 +1.36100342e+01j,\n",
       "         3.10753827e+01 -1.36100342e+01j,\n",
       "         1.19443028e+01 +3.16190815e+01j,\n",
       "         1.19443028e+01 -3.16190815e+01j,\n",
       "        -3.25351724e+01 +7.12500108e+00j,\n",
       "        -3.25351724e+01 -7.12500108e+00j,\n",
       "        -1.27438650e+01 +2.81823879e+01j,\n",
       "        -1.27438650e+01 -2.81823879e+01j,\n",
       "         3.02670811e+01 +0.00000000e+00j,\n",
       "        -3.01137691e+01 +0.00000000e+00j,\n",
       "         1.51060558e+01 +2.56677142e+01j,\n",
       "         1.51060558e+01 -2.56677142e+01j,\n",
       "        -3.68703833e+00 +2.88139210e+01j,\n",
       "        -3.68703833e+00 -2.88139210e+01j,\n",
       "         5.97118732e+00 +2.79981307e+01j,\n",
       "         5.97118732e+00 -2.79981307e+01j,\n",
       "        -1.47713821e+01 +2.44154969e+01j,\n",
       "        -1.47713821e+01 -2.44154969e+01j,\n",
       "        -1.88753387e+01 +2.11528412e+01j,\n",
       "        -1.88753387e+01 -2.11528412e+01j,\n",
       "         2.68089911e+01 +3.57377716e+00j,\n",
       "         2.68089911e+01 -3.57377716e+00j,\n",
       "         1.54557512e+01 +2.12193455e+01j,\n",
       "         1.54557512e+01 -2.12193455e+01j,\n",
       "        -2.22664744e+01 +1.32983505e+01j,\n",
       "        -2.22664744e+01 -1.32983505e+01j,\n",
       "         2.18200529e+01 -1.30818652e+01j,\n",
       "         2.18200529e+01 +1.30818652e+01j,\n",
       "        -2.10426910e+01 -1.40765279e+01j,\n",
       "        -2.10426910e+01 +1.40765279e+01j,\n",
       "        -2.06226066e+01 -4.14868399e+00j,\n",
       "        -2.06226066e+01 +4.14868399e+00j,\n",
       "         1.96054906e+01 +6.09453541e+00j,\n",
       "         1.96054906e+01 -6.09453541e+00j,\n",
       "         1.74615881e+01 +1.04962048e+01j,\n",
       "         1.74615881e+01 -1.04962048e+01j,\n",
       "         1.43452874e+01 +1.42823877e+01j,\n",
       "         1.43452874e+01 -1.42823877e+01j,\n",
       "        -1.08282896e+01 +1.60451720e+01j,\n",
       "        -1.08282896e+01 -1.60451720e+01j,\n",
       "        -7.45249003e-01 +1.93258911e+01j,\n",
       "        -7.45249003e-01 -1.93258911e+01j,\n",
       "         5.64749144e+00 +1.72996209e+01j,\n",
       "         5.64749144e+00 -1.72996209e+01j,\n",
       "         1.72908687e+01 +0.00000000e+00j,\n",
       "        -8.42835603e+00 -1.35044009e+01j,\n",
       "        -8.42835603e+00 +1.35044009e+01j,\n",
       "        -1.56861088e+01 +0.00000000e+00j,\n",
       "        -1.32762310e+01 +0.00000000e+00j,\n",
       "        -1.14612271e+01 +5.55124959e+00j,\n",
       "        -1.14612271e+01 -5.55124959e+00j,\n",
       "         6.78523148e+00 +1.06845379e+01j,\n",
       "         6.78523148e+00 -1.06845379e+01j,\n",
       "         4.22794380e-02 +1.22644388e+01j,\n",
       "         4.22794380e-02 -1.22644388e+01j,\n",
       "        -1.08535637e+01 +3.44432981e+00j,\n",
       "        -1.08535637e+01 -3.44432981e+00j,\n",
       "         8.66234483e+00 +0.00000000e+00j,\n",
       "         6.11758978e+00 +5.32965091e+00j,\n",
       "         6.11758978e+00 -5.32965091e+00j,\n",
       "        -4.71829116e+00 +5.40485369e+00j,\n",
       "        -4.71829116e+00 -5.40485369e+00j,\n",
       "         5.75717751e+00 +0.00000000e+00j,\n",
       "        -1.80957559e+00 -5.33979509e+00j,\n",
       "        -1.80957559e+00 +5.33979509e+00j,\n",
       "         2.59489975e+00 +3.51802975e+00j,   2.59489975e+00 -3.51802975e+00j])"
      ]
     },
     "execution_count": 19,
     "metadata": {},
     "output_type": "execute_result"
    }
   ],
   "source": [
    "ls"
   ]
  },
  {
   "cell_type": "code",
   "execution_count": null,
   "metadata": {
    "collapsed": false
   },
   "outputs": [],
   "source": []
  },
  {
   "cell_type": "markdown",
   "metadata": {},
   "source": [
    "## Autovalori multipli"
   ]
  },
  {
   "cell_type": "markdown",
   "metadata": {},
   "source": [
    "#### Molteplicità algebrica (ma non geometrica)"
   ]
  },
  {
   "cell_type": "code",
   "execution_count": null,
   "metadata": {
    "collapsed": false
   },
   "outputs": [],
   "source": [
    "A = np.array([[0,1,1],\n",
    "              [1,0,1],\n",
    "              [1,1,0]])"
   ]
  },
  {
   "cell_type": "code",
   "execution_count": null,
   "metadata": {
    "collapsed": true
   },
   "outputs": [],
   "source": [
    "ls, V = la.eig(A)\n",
    "ind = np.argsort(np.abs(ls))[::-1]\n",
    "ls = ls[ind]\n",
    "V = V[:,ind]"
   ]
  },
  {
   "cell_type": "code",
   "execution_count": null,
   "metadata": {
    "collapsed": false
   },
   "outputs": [],
   "source": [
    "ls"
   ]
  },
  {
   "cell_type": "code",
   "execution_count": null,
   "metadata": {
    "collapsed": false
   },
   "outputs": [],
   "source": [
    "V"
   ]
  },
  {
   "cell_type": "code",
   "execution_count": null,
   "metadata": {
    "collapsed": false
   },
   "outputs": [],
   "source": [
    "la.inv(V)"
   ]
  },
  {
   "cell_type": "markdown",
   "metadata": {},
   "source": [
    "#### Molteplicità algebrica e geometrica"
   ]
  },
  {
   "cell_type": "code",
   "execution_count": null,
   "metadata": {
    "collapsed": false
   },
   "outputs": [],
   "source": [
    "A = np.array([[1,1],\n",
    "              [0,1]])"
   ]
  },
  {
   "cell_type": "code",
   "execution_count": null,
   "metadata": {
    "collapsed": true
   },
   "outputs": [],
   "source": [
    "ls, V = la.eig(A)\n",
    "ind = np.argsort(np.abs(ls))[::-1]\n",
    "ls = ls[ind]\n",
    "V = V[:,ind]"
   ]
  },
  {
   "cell_type": "code",
   "execution_count": null,
   "metadata": {
    "collapsed": false
   },
   "outputs": [],
   "source": [
    "ls"
   ]
  },
  {
   "cell_type": "code",
   "execution_count": null,
   "metadata": {
    "collapsed": false
   },
   "outputs": [],
   "source": [
    "V"
   ]
  },
  {
   "cell_type": "code",
   "execution_count": null,
   "metadata": {
    "collapsed": false
   },
   "outputs": [],
   "source": [
    "la.inv(V)"
   ]
  },
  {
   "cell_type": "code",
   "execution_count": null,
   "metadata": {
    "collapsed": true
   },
   "outputs": [],
   "source": []
  },
  {
   "cell_type": "markdown",
   "metadata": {},
   "source": [
    "## Matrici simmetriche"
   ]
  },
  {
   "cell_type": "markdown",
   "metadata": {},
   "source": [
    "#### Matrice A simmetrica"
   ]
  },
  {
   "cell_type": "code",
   "execution_count": null,
   "metadata": {
    "collapsed": false
   },
   "outputs": [],
   "source": [
    "A = np.array([[ 1, 3,-2],\n",
    "              [ 3,-2,-1],\n",
    "              [-2,-1, 2]])\n",
    "A"
   ]
  },
  {
   "cell_type": "markdown",
   "metadata": {},
   "source": [
    "#### Calcolo autovalori e autovettori"
   ]
  },
  {
   "cell_type": "code",
   "execution_count": null,
   "metadata": {
    "collapsed": true
   },
   "outputs": [],
   "source": [
    "ls, V = la.eig(A)\n",
    "ind = np.argsort(np.abs(ls))[::-1]\n",
    "ls = ls[ind]\n",
    "V = V[:,ind]"
   ]
  },
  {
   "cell_type": "code",
   "execution_count": null,
   "metadata": {
    "collapsed": false
   },
   "outputs": [],
   "source": [
    "ls"
   ]
  },
  {
   "cell_type": "code",
   "execution_count": null,
   "metadata": {
    "collapsed": false
   },
   "outputs": [],
   "source": [
    "V"
   ]
  },
  {
   "cell_type": "markdown",
   "metadata": {},
   "source": [
    "#### Matrice inversa degli autovettori"
   ]
  },
  {
   "cell_type": "code",
   "execution_count": null,
   "metadata": {
    "collapsed": false
   },
   "outputs": [],
   "source": [
    "V_1 = la.inv(V)\n",
    "V_1"
   ]
  },
  {
   "cell_type": "markdown",
   "metadata": {},
   "source": [
    "#### Matrice trasposta degli autovettori: è identica alla precedente!"
   ]
  },
  {
   "cell_type": "code",
   "execution_count": null,
   "metadata": {
    "collapsed": false
   },
   "outputs": [],
   "source": [
    "VT = np.transpose(V)\n",
    "VT"
   ]
  },
  {
   "cell_type": "markdown",
   "metadata": {},
   "source": [
    "#### Gli autovettori sono tutti ortonormali fra loro"
   ]
  },
  {
   "cell_type": "code",
   "execution_count": null,
   "metadata": {
    "collapsed": false
   },
   "outputs": [],
   "source": [
    "VT.dot(V)"
   ]
  },
  {
   "cell_type": "markdown",
   "metadata": {},
   "source": [
    "#### Se modifico la matrice A in modo che non sia più simmetrica (A[1,0]=5)..."
   ]
  },
  {
   "cell_type": "code",
   "execution_count": null,
   "metadata": {
    "collapsed": false
   },
   "outputs": [],
   "source": [
    "A = np.array([[ 1, 3,-2],\n",
    "              [ -5,-2,-1],\n",
    "              [-2,-1, 2]])\n",
    "ls, V = la.eig(A)\n",
    "ind = np.argsort(np.abs(ls))[::-1]\n",
    "ls = ls[ind]\n",
    "V = V[:,ind]\n",
    "ls"
   ]
  },
  {
   "cell_type": "markdown",
   "metadata": {},
   "source": [
    "#### ...gli autovalori non sono più tutti necessariamente reali"
   ]
  },
  {
   "cell_type": "markdown",
   "metadata": {},
   "source": [
    "#### Se costruisco una matrice simmetrica dal prodotto di A (non simmetrica) e della sua trasposta"
   ]
  },
  {
   "cell_type": "code",
   "execution_count": null,
   "metadata": {
    "collapsed": false
   },
   "outputs": [],
   "source": [
    "B = A.dot(np.transpose(A))"
   ]
  },
  {
   "cell_type": "markdown",
   "metadata": {},
   "source": [
    "#### Calcolo degli autovalori e degli autovettori di B"
   ]
  },
  {
   "cell_type": "code",
   "execution_count": null,
   "metadata": {
    "collapsed": true
   },
   "outputs": [],
   "source": [
    "ls, V = la.eig(B)\n",
    "ind = np.argsort(np.abs(ls))[::-1]\n",
    "ls = ls[ind]\n",
    "V = V[:,ind]"
   ]
  },
  {
   "cell_type": "markdown",
   "metadata": {},
   "source": [
    "#### Gli autovalori sono tutti reali positivi"
   ]
  },
  {
   "cell_type": "code",
   "execution_count": null,
   "metadata": {
    "collapsed": false
   },
   "outputs": [],
   "source": [
    "ls"
   ]
  },
  {
   "cell_type": "code",
   "execution_count": null,
   "metadata": {
    "collapsed": true
   },
   "outputs": [],
   "source": []
  }
 ],
 "metadata": {
  "kernelspec": {
   "display_name": "Python [conda root]",
   "language": "python",
   "name": "conda-root-py"
  },
  "language_info": {
   "codemirror_mode": {
    "name": "ipython",
    "version": 3
   },
   "file_extension": ".py",
   "mimetype": "text/x-python",
   "name": "python",
   "nbconvert_exporter": "python",
   "pygments_lexer": "ipython3",
   "version": "3.5.2"
  }
 },
 "nbformat": 4,
 "nbformat_minor": 2
}
