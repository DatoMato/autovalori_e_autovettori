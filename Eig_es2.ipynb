{
 "cells": [
  {
   "cell_type": "code",
   "execution_count": 2,
   "metadata": {
    "collapsed": true
   },
   "outputs": [],
   "source": [
    "import numpy as np\n",
    "import numpy.linalg as la"
   ]
  },
  {
   "cell_type": "markdown",
   "metadata": {},
   "source": [
    "#### Costruzione matrice A 2x2"
   ]
  },
  {
   "cell_type": "code",
   "execution_count": 3,
   "metadata": {
    "collapsed": false
   },
   "outputs": [
    {
     "data": {
      "text/plain": [
       "array([[ 1, -2],\n",
       "       [-3,  2]])"
      ]
     },
     "execution_count": 3,
     "metadata": {},
     "output_type": "execute_result"
    }
   ],
   "source": [
    "A = np.array([[1, -2],\n",
    "              [-3, 2]])\n",
    "A"
   ]
  },
  {
   "cell_type": "markdown",
   "metadata": {},
   "source": [
    "#### Autovalori e autovettori di A"
   ]
  },
  {
   "cell_type": "code",
   "execution_count": 4,
   "metadata": {
    "collapsed": false
   },
   "outputs": [
    {
     "name": "stdout",
     "output_type": "stream",
     "text": [
      "Autovalori: [ 4. -1.]\n",
      "Matrice autovettori:\n",
      " [[ 0.5547002  -0.70710678]\n",
      " [-0.83205029 -0.70710678]]\n"
     ]
    }
   ],
   "source": [
    "ls, V = la.eig(A)\n",
    "ind = np.argsort(ls)[::-1]\n",
    "ls = ls[ind]\n",
    "V = V[:,ind]\n",
    "print('Autovalori:',ls)\n",
    "print('Matrice autovettori:\\n',V)"
   ]
  },
  {
   "cell_type": "markdown",
   "metadata": {},
   "source": [
    "#### Autovettori calcolati a mano"
   ]
  },
  {
   "cell_type": "code",
   "execution_count": 5,
   "metadata": {
    "collapsed": true
   },
   "outputs": [],
   "source": [
    "v1 = np.array([-2,3])\n",
    "v2 = np.array([1,1])"
   ]
  },
  {
   "cell_type": "markdown",
   "metadata": {},
   "source": [
    "#### Normalizzazione degli autovettori calcolati a mano"
   ]
  },
  {
   "cell_type": "code",
   "execution_count": 6,
   "metadata": {
    "collapsed": false
   },
   "outputs": [
    {
     "name": "stdout",
     "output_type": "stream",
     "text": [
      "Autovettore 1 calcolato a mano e normalizzato: [-0.5547002   0.83205029]\n",
      "Autovettore 1 da matrice V: [ 0.5547002  -0.83205029]\n"
     ]
    }
   ],
   "source": [
    "vn1 = v1/(la.norm(v1))\n",
    "print('Autovettore 1 calcolato a mano e normalizzato:', vn1)\n",
    "print('Autovettore 1 da matrice V:', V[:,0])"
   ]
  },
  {
   "cell_type": "code",
   "execution_count": 7,
   "metadata": {
    "collapsed": false
   },
   "outputs": [
    {
     "name": "stdout",
     "output_type": "stream",
     "text": [
      "Autovettore 1 calcolato a mano e normalizzato: [ 0.70710678  0.70710678]\n",
      "Autovettore 1 da matrice V: [-0.70710678 -0.70710678]\n"
     ]
    }
   ],
   "source": [
    "vn2 = v2/(la.norm(v2))\n",
    "print('Autovettore 1 calcolato a mano e normalizzato:', vn2)\n",
    "print('Autovettore 1 da matrice V:', V[:,1])"
   ]
  },
  {
   "cell_type": "markdown",
   "metadata": {},
   "source": [
    "#### Vettore a"
   ]
  },
  {
   "cell_type": "code",
   "execution_count": 8,
   "metadata": {
    "collapsed": false
   },
   "outputs": [
    {
     "data": {
      "text/plain": [
       "array([-1. ,  0.5])"
      ]
     },
     "execution_count": 8,
     "metadata": {},
     "output_type": "execute_result"
    }
   ],
   "source": [
    "a = np.array([-1,1/2])\n",
    "a"
   ]
  },
  {
   "cell_type": "markdown",
   "metadata": {},
   "source": [
    "#### Applicazione della matrice A al vettore a"
   ]
  },
  {
   "cell_type": "code",
   "execution_count": 9,
   "metadata": {
    "collapsed": false
   },
   "outputs": [
    {
     "data": {
      "text/plain": [
       "array([-2.,  4.])"
      ]
     },
     "execution_count": 9,
     "metadata": {},
     "output_type": "execute_result"
    }
   ],
   "source": [
    "A.dot(a)"
   ]
  },
  {
   "cell_type": "markdown",
   "metadata": {},
   "source": [
    "#### Calcolo componenti di $a$ su $v_1$ e $v_2$: $\\alpha$ e $\\beta$"
   ]
  },
  {
   "cell_type": "code",
   "execution_count": 10,
   "metadata": {
    "collapsed": false
   },
   "outputs": [
    {
     "name": "stdout",
     "output_type": "stream",
     "text": [
      "Alfa: 1.08166538264\n",
      "Beta -0.565685424949\n"
     ]
    }
   ],
   "source": [
    "beta = (a[0]*vn1[1]/vn1[0] - a[1])/(vn2[0]*vn1[1]/vn1[0] - vn2[1])\n",
    "alfa = (a[0] - beta*vn2[1])/vn1[0]\n",
    "print('Alfa:',alfa)\n",
    "print('Beta',beta)"
   ]
  },
  {
   "cell_type": "markdown",
   "metadata": {},
   "source": [
    "#### Somma delle componenti $\\alpha$ e $\\beta$ di $a$ sulle direzioni degli autovettori moltiplicate per gli autovalori corrispondenti"
   ]
  },
  {
   "cell_type": "code",
   "execution_count": 11,
   "metadata": {
    "collapsed": false
   },
   "outputs": [
    {
     "data": {
      "text/plain": [
       "array([-2.,  4.])"
      ]
     },
     "execution_count": 11,
     "metadata": {},
     "output_type": "execute_result"
    }
   ],
   "source": [
    "alfa*vn1*ls[0] + beta*vn2*ls[1]"
   ]
  },
  {
   "cell_type": "code",
   "execution_count": null,
   "metadata": {
    "collapsed": true
   },
   "outputs": [],
   "source": []
  },
  {
   "cell_type": "code",
   "execution_count": null,
   "metadata": {
    "collapsed": false
   },
   "outputs": [],
   "source": []
  },
  {
   "cell_type": "code",
   "execution_count": 12,
   "metadata": {
    "collapsed": false
   },
   "outputs": [
    {
     "data": {
      "text/plain": [
       "array([[1, 1],\n",
       "       [0, 1]])"
      ]
     },
     "execution_count": 12,
     "metadata": {},
     "output_type": "execute_result"
    }
   ],
   "source": [
    "X = np.array([[1,1],[0,1]])\n",
    "X"
   ]
  },
  {
   "cell_type": "code",
   "execution_count": 14,
   "metadata": {
    "collapsed": false
   },
   "outputs": [
    {
     "name": "stdout",
     "output_type": "stream",
     "text": [
      "Autovalori: [ 1.  1.]\n",
      "Matrice autovettori:\n",
      " [[ -1.00000000e+00   1.00000000e+00]\n",
      " [  2.22044605e-16   0.00000000e+00]]\n"
     ]
    }
   ],
   "source": [
    "ls, V = la.eig(X)\n",
    "ind = np.argsort(ls)[::-1]\n",
    "ls = ls[ind]\n",
    "V = V[:,ind]\n",
    "print('Autovalori:',ls)\n",
    "print('Matrice autovettori:\\n',V)"
   ]
  },
  {
   "cell_type": "code",
   "execution_count": 15,
   "metadata": {
    "collapsed": false
   },
   "outputs": [
    {
     "data": {
      "text/plain": [
       "array([[  0.00000000e+00,   4.50359963e+15],\n",
       "       [  1.00000000e+00,   4.50359963e+15]])"
      ]
     },
     "execution_count": 15,
     "metadata": {},
     "output_type": "execute_result"
    }
   ],
   "source": [
    "V_1 = la.inv(V)\n",
    "V_1"
   ]
  },
  {
   "cell_type": "code",
   "execution_count": null,
   "metadata": {
    "collapsed": true
   },
   "outputs": [],
   "source": []
  }
 ],
 "metadata": {
  "kernelspec": {
   "display_name": "Python [conda root]",
   "language": "python",
   "name": "conda-root-py"
  }
 },
 "nbformat": 4,
 "nbformat_minor": 2
}
