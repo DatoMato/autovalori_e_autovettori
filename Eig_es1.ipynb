{
 "cells": [
  {
   "cell_type": "code",
   "execution_count": 1,
   "metadata": {
    "collapsed": true
   },
   "outputs": [],
   "source": [
    "import numpy as np\n",
    "import numpy.linalg as la"
   ]
  },
  {
   "cell_type": "markdown",
   "metadata": {},
   "source": [
    "#### Costruzione matrice A 2x2"
   ]
  },
  {
   "cell_type": "code",
   "execution_count": 2,
   "metadata": {
    "collapsed": false
   },
   "outputs": [
    {
     "data": {
      "text/plain": [
       "array([[ 1, -2],\n",
       "       [-3,  2]])"
      ]
     },
     "execution_count": 2,
     "metadata": {},
     "output_type": "execute_result"
    }
   ],
   "source": [
    "A = np.array([[1, -2],\n",
    "              [-3, 2]])\n",
    "A"
   ]
  },
  {
   "cell_type": "markdown",
   "metadata": {},
   "source": [
    "#### Autovalori e autovettori di A"
   ]
  },
  {
   "cell_type": "code",
   "execution_count": 3,
   "metadata": {
    "collapsed": false
   },
   "outputs": [
    {
     "name": "stdout",
     "output_type": "stream",
     "text": [
      "Autovalori: [ 4. -1.]\n",
      "Matrice autovettori:\n",
      " [[ 0.5547002  -0.70710678]\n",
      " [-0.83205029 -0.70710678]]\n"
     ]
    }
   ],
   "source": [
    "ls, V = la.eig(A)\n",
    "ind = np.argsort(ls)[::-1]\n",
    "ls = ls[ind]\n",
    "V = V[:,ind]\n",
    "print('Autovalori:',ls)\n",
    "print('Matrice autovettori:\\n',V)"
   ]
  },
  {
   "cell_type": "markdown",
   "metadata": {},
   "source": [
    "#### Autovettori calcolati a mano"
   ]
  },
  {
   "cell_type": "code",
   "execution_count": 4,
   "metadata": {
    "collapsed": true
   },
   "outputs": [],
   "source": [
    "v1 = np.array([-2,3])\n",
    "v2 = np.array([1,1])"
   ]
  },
  {
   "cell_type": "markdown",
   "metadata": {},
   "source": [
    "#### Parallelismo tra gli autovettori di V e quelli calcolati a mano"
   ]
  },
  {
   "cell_type": "code",
   "execution_count": 5,
   "metadata": {
    "collapsed": false
   },
   "outputs": [
    {
     "name": "stdout",
     "output_type": "stream",
     "text": [
      "Direzione autovettore 1 calcolato a mano: -1.5\n",
      "Direzione autovettore 1 dalla matrice V: -1.5\n",
      "Direzione autovettore 2 calcolato a mano: 1.0\n",
      "Direzione autovettore 2 dalla matrice V: 1.0\n"
     ]
    }
   ],
   "source": [
    "print('Direzione autovettore 1 calcolato a mano:',v1[1]/v1[0])\n",
    "print('Direzione autovettore 1 dalla matrice V:',V[1,0]/V[0,0])\n",
    "print('Direzione autovettore 2 calcolato a mano:',v2[1]/v2[0])\n",
    "print('Direzione autovettore 2 dalla matrice V:',V[1,1]/V[0,1])"
   ]
  },
  {
   "cell_type": "markdown",
   "metadata": {},
   "source": [
    "#### Vettore parallelo a $v_1: w=\\frac{v_1}{2}$"
   ]
  },
  {
   "cell_type": "code",
   "execution_count": 6,
   "metadata": {
    "collapsed": false
   },
   "outputs": [
    {
     "name": "stdout",
     "output_type": "stream",
     "text": [
      "[-4.  6.]\n",
      "[-4  6]\n"
     ]
    }
   ],
   "source": [
    "w = v1/2\n",
    "print(A.dot(w))\n",
    "print(2*v1)"
   ]
  },
  {
   "cell_type": "markdown",
   "metadata": {},
   "source": [
    "#### Vettore parallelo a $v_2: w=2v_2$\n"
   ]
  },
  {
   "cell_type": "code",
   "execution_count": 7,
   "metadata": {
    "collapsed": false
   },
   "outputs": [
    {
     "name": "stdout",
     "output_type": "stream",
     "text": [
      "[-2 -2]\n",
      "[-2 -2]\n"
     ]
    }
   ],
   "source": [
    "w = 2*v2\n",
    "print(A.dot(w))\n",
    "print(-2*v2)"
   ]
  },
  {
   "cell_type": "code",
   "execution_count": null,
   "metadata": {
    "collapsed": true
   },
   "outputs": [],
   "source": []
  }
 ],
 "metadata": {
  "kernelspec": {
   "display_name": "Python [conda root]",
   "language": "python",
   "name": "conda-root-py"
  },
  "language_info": {
   "codemirror_mode": {
    "name": "ipython",
    "version": 3
   },
   "file_extension": ".py",
   "mimetype": "text/x-python",
   "name": "python",
   "nbconvert_exporter": "python",
   "pygments_lexer": "ipython3",
   "version": "3.5.2"
  }
 },
 "nbformat": 4,
 "nbformat_minor": 2
}
